{
 "cells": [
  {
   "cell_type": "code",
   "execution_count": 5,
   "metadata": {},
   "outputs": [],
   "source": [
    "# You can import *ANYTHING* you want here.\n",
    "import numpy as np\n",
    "import matplotlib.pyplot as plt\n",
    "import matplotlib as mpl\n",
    "from sklearn.tree import DecisionTreeClassifier\n",
    "from sklearn.ensemble import BaggingClassifier, RandomForestClassifier\n",
    "from sklearn.metrics import accuracy_score\n",
    "import pandas as pd\n",
    "from tqdm import tqdm # this is just a tool to show a progress bar as your simulations are running"
   ]
  },
  {
   "cell_type": "markdown",
   "metadata": {},
   "source": [
    "# Assignment 7: Comparing Tree Models\n",
    "\n",
    "Simulation is an incredibly useful tool in data science.  We can use simulation to evaluate how algorithms perform against ground truth, and how algorithms compare to one another.\n",
    "\n",
    "In this assignment, you will be implementing and extending the nested spheres simulation study found in *Elements of Statistical Learning* page 339. https://web.stanford.edu/~hastie/ElemStatLearn/\n",
    "\n",
    "# Nested Spheres\n",
    "\n",
    "Consider a dataset which contains 10 features $X_1 \\,, X_2 \\,, \\cdots \\,, X_{10}$.  The features are standard independent Gaussian random variables.  That is to say\n",
    "\n",
    "$$ X_j \\sim \\operatorname{Normal}(0,1) \\quad \\forall j = 1 \\dots 10$$\n",
    "\n",
    "We are going to use these features to study a classification problem.  You will have to create the target variable, $Y$ by computing the following rule:\n",
    "\n",
    "$$ Y = \\begin{cases}  1 \\quad \\text{ if } \\sum_{j=1}^{10} X^2_j>9.34 \\\\ 0 \\quad  \\text{ else } \\end{cases}$$\n",
    "\n",
    "# The Simulation Study\n",
    "\n",
    "Follow these steps to complete the assignment. "
   ]
  },
  {
   "cell_type": "markdown",
   "metadata": {},
   "source": [
    "### Part 1 ( X / 25 pts )\n",
    "Write a function, `generate_data`, that takes a dataset size N and creates a dataset according to the rule above, returning the feature matrix `X` and the labels `y`."
   ]
  },
  {
   "cell_type": "code",
   "execution_count": 6,
   "metadata": {},
   "outputs": [
    {
     "name": "stdout",
     "output_type": "stream",
     "text": [
      "Numbers generated (feature matrix):  [[ 0.12510197  1.32766131  1.3981206  -0.62124417  1.78391838  0.28686118\n",
      "   0.8054312   0.33092786  0.92143498  1.44795822]\n",
      " [-1.49037987 -1.79617404  1.2613539  -0.59813257 -1.27826381  0.40304244\n",
      "  -0.56478172 -0.78738237 -1.00376643  0.6544561 ]\n",
      " [-0.26206359 -0.40357924 -1.72270215  2.34133392 -0.21796417 -1.37810592\n",
      "   0.38142538  0.51884581  1.85521145  4.17613079]\n",
      " [-0.00761051 -0.79970115 -0.11776887  0.31838211  2.04388217 -0.11890602\n",
      "  -0.9751676   0.17664878 -1.12210988  1.18047424]\n",
      " [-1.42907518  1.413153    0.44989832  0.06485264  0.40396604  0.01138215\n",
      "  -1.89740383  0.35370931 -0.69090041 -1.43900356]\n",
      " [ 0.04249491 -1.35611575 -0.22929224 -1.1043121  -0.67723777 -1.62016021\n",
      "   0.64748713 -0.13667386  2.39669179  0.74427739]\n",
      " [-1.23825004  0.17872579 -1.21919969 -1.64053656 -0.55172958 -2.79878726\n",
      "  -0.58939503 -0.95581693 -1.39217136  0.23293923]\n",
      " [ 0.31739714  0.83300764  2.00209897  0.75312242 -1.7415578   0.32901914\n",
      "   0.76256094 -0.2759918   0.79078219 -0.63015395]\n",
      " [-1.22062384  0.74465721  1.09516052  0.79011705  0.55730511 -0.03422313\n",
      "  -1.1432489   0.38453124 -1.14060941  2.61084523]\n",
      " [-1.04368347  0.6898815  -1.03791829 -0.15270245  0.40300779 -1.0613475\n",
      "   0.43535617 -0.72737111 -0.96338051 -0.12699706]]\n",
      "Labels:  [1 1 1 0 1 1 1 1 1 0]\n"
     ]
    }
   ],
   "source": [
    "def generate_data(N):\n",
    "    # Create feature matrix X and labels y\n",
    "    X = np.random.normal(0,1,(N,10))\n",
    "\n",
    "    fn = lambda x: (np.sum(X ** 2, axis=1) > 9.34).astype(int)\n",
    "\n",
    "    y = fn(X)\n",
    "\n",
    "    return X, y\n",
    "\n",
    "a,b=generate_data(10)\n",
    "\n",
    "print(\"Numbers generated (feature matrix): \",a)\n",
    "print(\"Labels: \",b)"
   ]
  },
  {
   "cell_type": "markdown",
   "metadata": {},
   "source": [
    "## Part 2 ( X / 25 pts )\n",
    "\n",
    "Write a function `run_simulation` that accepts two numbers, Ntrain and Ntest. It should generate a training set and testing set using your `generate_data` function and then train **four classifiers**. The first should be a bagged decision tree, the second should be a random forest with `max_features=1`, the third should be a random forest with `max_features=3`, and the fourth can be anything you like, for example a random forest with more features or an XGboost model. Use 500 trees in your random forests and the bagged classifier. The function should return the accuracy for each of these models estimated using the corresponding test set you generated."
   ]
  },
  {
   "cell_type": "code",
   "execution_count": null,
   "metadata": {},
   "outputs": [],
   "source": [
    "def run_simulation(Ntrain,Ntest):\n",
    "    # Code to generate data and run one simulation\n",
    "    trainDataX, trainDataY = generate_data(Ntrain)\n",
    "    testDataX, testDataY = generate_data(Ntest)\n",
    "\n",
    "    #bagging\n",
    "    bagging = BaggingClassifier(n_estimators=500)\n",
    "\n",
    "    fitbagging = bagging.fit(trainDataX, trainDataY)\n",
    "    Ypred_bag = fitbagging.predict(testDataX)\n",
    "\n",
    "    bag_accuracy = accuracy_score(testDataY, Ypred_bag)\n",
    "\n",
    "    \n",
    "    #random forest 1 max feature\n",
    "    rfmf1 = RandomForestClassifier(n_estimators=500, max_features=1)\n",
    "    fitrfmf1 = rfmf1.fit(trainDataX, trainDataY)\n",
    "    Ypred_rfmf1 = fitrfmf1.predict(testDataX)\n",
    "\n",
    "    rf_mf1_accuracy = accuracy_score(testDataY, Ypred_rfmf1)\n",
    "\n",
    "\n",
    "    #random forest 3 max features\n",
    "    rfmf3 = RandomForestClassifier(n_estimators=500, max_features=3)\n",
    "    fitrfmf3 = rfmf3.fit(trainDataX, trainDataY)\n",
    "    Ypred_rfmf3 = fitrfmf3.predict(testDataX)\n",
    "\n",
    "    rf_mf3_accuracy = accuracy_score(testDataY, Ypred_rfmf3)\n",
    "\n",
    "    \n",
    "    #my classifier (rf_mf5)\n",
    "    rfmf5 = RandomForestClassifier(n_estimators=500, max_features=5)\n",
    "    fitrfmf5 = rfmf5.fit(trainDataX, trainDataY)\n",
    "    Ypred_rfmf5 = fitrfmf5.predict(testDataX)\n",
    "\n",
    "    my_classifier_accuracy = accuracy_score(testDataY, Ypred_rfmf5)\n",
    "    \n",
    "    return bag_accuracy, rf_mf1_accuracy, rf_mf3_accuracy, my_classifier_accuracy"
   ]
  },
  {
   "cell_type": "markdown",
   "metadata": {},
   "source": [
    "## Part 3 ( X / 25 pts )\n",
    "\n",
    "Run 50 simulations using a training set of size 1000 and a test set of size 5000 and record all the results in four vectors, one for each type of model. *You should probably debug your code using smaller training and test set sized first because these will take a while. The full simulation takes 10 minutes on my old 2.8GHz core i5 laptop, 5 min on my new-ish M2 MacBook Air.*"
   ]
  },
  {
   "cell_type": "code",
   "execution_count": 8,
   "metadata": {},
   "outputs": [
    {
     "name": "stderr",
     "output_type": "stream",
     "text": [
      "100%|██████████| 50/50 [14:57<00:00, 17.95s/it]"
     ]
    },
    {
     "name": "stdout",
     "output_type": "stream",
     "text": [
      "Bagging model data vector:  [0.845, 0.8134, 0.8234, 0.8358, 0.8482, 0.8426, 0.8288, 0.845, 0.8408, 0.829, 0.8392, 0.8432, 0.8214, 0.847, 0.8422, 0.8536, 0.8306, 0.8292, 0.8418, 0.8174, 0.84, 0.8504, 0.8532, 0.8264, 0.8288, 0.8286, 0.8234, 0.8446, 0.8186, 0.8354, 0.8246, 0.8304, 0.8304, 0.823, 0.8168, 0.8402, 0.8182, 0.8366, 0.83, 0.8276, 0.8274, 0.8374, 0.849, 0.8318, 0.829, 0.8352, 0.8436, 0.8442, 0.8302, 0.8394]\n",
      "Random forest (1 max feature) model data vector:  [0.8808, 0.8608, 0.8568, 0.867, 0.8686, 0.8618, 0.8528, 0.8818, 0.871, 0.8674, 0.8628, 0.8664, 0.867, 0.882, 0.866, 0.88, 0.8684, 0.8614, 0.876, 0.8552, 0.862, 0.876, 0.88, 0.8658, 0.8598, 0.8664, 0.8708, 0.884, 0.8494, 0.8496, 0.862, 0.8658, 0.8526, 0.8598, 0.8594, 0.8604, 0.8494, 0.8548, 0.8562, 0.857, 0.8706, 0.8706, 0.8788, 0.8698, 0.8654, 0.8596, 0.8692, 0.8628, 0.8552, 0.8734]\n",
      "Random forest (3 max features) model data vector:  [0.8556, 0.8314, 0.837, 0.8444, 0.8532, 0.8538, 0.8478, 0.8544, 0.8514, 0.8466, 0.8546, 0.8522, 0.8386, 0.861, 0.8544, 0.8608, 0.8434, 0.8374, 0.8574, 0.8316, 0.8508, 0.8576, 0.8584, 0.8404, 0.844, 0.8492, 0.842, 0.8574, 0.8276, 0.8376, 0.8366, 0.845, 0.838, 0.8386, 0.8292, 0.8486, 0.8302, 0.8558, 0.8402, 0.8404, 0.8432, 0.847, 0.8544, 0.852, 0.8438, 0.849, 0.854, 0.8528, 0.8372, 0.8572]\n",
      "My model data vector:  [0.851, 0.8246, 0.8314, 0.8392, 0.8538, 0.846, 0.8378, 0.85, 0.8476, 0.8384, 0.8476, 0.852, 0.8252, 0.8532, 0.8484, 0.8546, 0.8286, 0.833, 0.8456, 0.8246, 0.8436, 0.8536, 0.857, 0.8336, 0.836, 0.838, 0.8354, 0.8538, 0.8244, 0.8332, 0.8314, 0.8396, 0.8314, 0.8328, 0.821, 0.8448, 0.8258, 0.8426, 0.8356, 0.832, 0.8372, 0.8452, 0.8482, 0.8424, 0.8406, 0.8406, 0.8514, 0.8514, 0.8302, 0.8448]\n"
     ]
    },
    {
     "name": "stderr",
     "output_type": "stream",
     "text": [
      "\n"
     ]
    }
   ],
   "source": [
    "#Setup code to record results here:\n",
    "Nsim = 50\n",
    "bag = []\n",
    "rf1 = []\n",
    "rf3 = []\n",
    "mine = []\n",
    "\n",
    "\n",
    "#Loop to run simulations:\n",
    "for sim in tqdm(range(Nsim)):\n",
    "\n",
    "    bagAcc, rf1Acc, rf3Acc, myAcc = run_simulation(1000, 5000)\n",
    "\n",
    "    bag.append(bagAcc)\n",
    "    rf1.append(rf1Acc)\n",
    "    rf3.append(rf3Acc)\n",
    "    mine.append(myAcc)\n",
    "\n",
    "    # Run simulations, collect data\n",
    "\n",
    "print(\"Bagging model data vector: \", bag)\n",
    "print(\"Random forest (1 max feature) model data vector: \", rf1)\n",
    "print(\"Random forest (3 max features) model data vector: \", rf3)\n",
    "print(\"My model data vector: \", mine)\n"
   ]
  },
  {
   "cell_type": "markdown",
   "metadata": {},
   "source": [
    "## Part 4 (X / 25 pts) \n",
    "Plot the error rates for each model using a boxplot for each one. The four models should be across the x-axis, and the y-axis should be test accuracy."
   ]
  },
  {
   "cell_type": "code",
   "execution_count": 9,
   "metadata": {},
   "outputs": [
    {
     "name": "stderr",
     "output_type": "stream",
     "text": [
      "C:\\Users\\lukas\\AppData\\Local\\Temp\\ipykernel_13416\\1502000811.py:11: MatplotlibDeprecationWarning: The 'labels' parameter of boxplot() has been renamed 'tick_labels' since Matplotlib 3.9; support for the old name will be dropped in 3.11.\n",
      "  plt.boxplot(errRates, labels=['Bagging Model', 'RF1 Model', 'RF3 Model', 'My Model (RF5)'])\n"
     ]
    },
    {
     "data": {
      "image/png": "[encoded data removed]",
      "text/plain": [
       "<Figure size 1000x600 with 1 Axes>"
      ]
     },
     "metadata": {},
     "output_type": "display_data"
    }
   ],
   "source": [
    "#Plot the error rates as a box plot by model to complete the assignment.\n",
    "\n",
    "errBag = [1 - acc for acc in bag]\n",
    "errrf1 = [1 - acc for acc in rf1]\n",
    "errrf3 = [1 - acc for acc in rf3]\n",
    "errMine = [1 - acc for acc in mine]\n",
    "\n",
    "errRates = [errBag, errrf1, errrf3, errMine]\n",
    "\n",
    "plt.figure(figsize=(10, 6))\n",
    "plt.boxplot(errRates, labels=['Bagging Model', 'RF1 Model', 'RF3 Model', 'My Model (RF5)'])\n",
    "plt.xlabel('Models')\n",
    "plt.ylabel('Test Accuracy')\n",
    "plt.title('Test Accuracy Comparison Across Models')\n",
    "plt.show()"
   ]
  }
 ],
 "metadata": {
  "kernelspec": {
   "display_name": "Python 3",
   "language": "python",
   "name": "python3"
  },
  "language_info": {
   "codemirror_mode": {
    "name": "ipython",
    "version": 3
   },
   "file_extension": ".py",
   "mimetype": "text/x-python",
   "name": "python",
   "nbconvert_exporter": "python",
   "pygments_lexer": "ipython3",
   "version": "3.12.6"
  }
 },
 "nbformat": 4,
 "nbformat_minor": 4
}
